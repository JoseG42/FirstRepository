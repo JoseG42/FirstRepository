{
 "cells": [
  {
   "cell_type": "code",
   "execution_count": 3,
   "id": "95a1d56c",
   "metadata": {},
   "outputs": [
    {
     "name": "stdout",
     "output_type": "stream",
     "text": [
      "Random Numbers: [39, 11, 57, 61, 81, 65, 23, 99, 76, 69]\n"
     ]
    }
   ],
   "source": [
    "import random\n",
    "\n",
    "# Generate a list of 10 random integers between 1 and 100\n",
    "random_numbers = [random.randint(1, 100) for _ in range(10)]\n",
    "\n",
    "# Print the generated list\n",
    "print(\"Random Numbers:\", random_numbers)"
   ]
  },
  {
   "cell_type": "code",
   "execution_count": 2,
   "id": "f81134f7",
   "metadata": {},
   "outputs": [
    {
     "name": "stdout",
     "output_type": "stream",
     "text": [
      "Hello, Jose!\n"
     ]
    }
   ],
   "source": [
    "\n",
    "name = \"Jose\"\n",
    "#generate a print statement\n",
    "\n",
    "print(f\"Hello, {name}!\")\n",
    "\n"
   ]
  }
 ],
 "metadata": {
  "kernelspec": {
   "display_name": "Python 3",
   "language": "python",
   "name": "python3"
  },
  "language_info": {
   "codemirror_mode": {
    "name": "ipython",
    "version": 3
   },
   "file_extension": ".py",
   "mimetype": "text/x-python",
   "name": "python",
   "nbconvert_exporter": "python",
   "pygments_lexer": "ipython3",
   "version": "3.12.1"
  }
 },
 "nbformat": 4,
 "nbformat_minor": 5
}
